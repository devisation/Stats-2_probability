{
 "cells": [
  {
   "cell_type": "markdown",
   "metadata": {},
   "source": [
    "# 1"
   ]
  },
  {
   "cell_type": "markdown",
   "metadata": {},
   "source": [
    "If $$P(M) = \\#M/(\\#M+\\#W)= 21/45$$\n",
    "then $$P(\\neg M) = 1 - P(M) = 24/45$$ => (a)"
   ]
  },
  {
   "cell_type": "markdown",
   "metadata": {},
   "source": [
    "# 2"
   ]
  },
  {
   "cell_type": "markdown",
   "metadata": {},
   "source": [
    "B = Bernice will travel by plane sometime in the next year\n",
    "\n",
    "A = A plane will crash during a given trip\n",
    "\n",
    "$$ P(B) = 0.1$$\n",
    "$$ P(A) = 0.00005$$\n",
    "$$ P(A,B) = P(A)\\cdot P(B) = 0.000005 = 0.0005\\% $$\n",
    "=> (d)"
   ]
  },
  {
   "cell_type": "markdown",
   "metadata": {},
   "source": [
    "# 3"
   ]
  },
  {
   "cell_type": "markdown",
   "metadata": {},
   "source": [
    "(b), because the sample is biased towards those users who surf longer, since they are more likely to get a survey."
   ]
  },
  {
   "cell_type": "markdown",
   "metadata": {},
   "source": [
    "# 4"
   ]
  },
  {
   "cell_type": "markdown",
   "metadata": {},
   "source": [
    "(c), see derivation below"
   ]
  },
  {
   "cell_type": "markdown",
   "metadata": {},
   "source": [
    "X = positive test result \\\n",
    "D = test subject has Thripshaw's disease \n",
    "\n",
    "Given:\n",
    "$$ P(X | D) = 0.98 $$\n",
    "$$ P(X | \\neg D) = 0.10 $$\n",
    "$$ P(D) = 0.005 $$\n"
   ]
  },
  {
   "cell_type": "markdown",
   "metadata": {},
   "source": [
    "\n",
    "Then one can conclude that\n",
    "$$ P(\\neg D) = 1 - P(D) = 0.995 $$\n"
   ]
  },
  {
   "cell_type": "markdown",
   "metadata": {},
   "source": [
    "and therefore that\n",
    "$$ P(X,D) = P(X|D)P(D) = 0.98\\cdot 0.005 = 0.0049$$\n",
    "$$ P(X,\\neg D) = P(X|\\neg D)P(\\neg D) = 0.10\\cdot 0.995 = 0.0995$$\n",
    "so\n",
    "$$ P(X) = P(X,D) + P(X,\\neg D) = 0.0049 + 0.0995 = 0.1044$$"
   ]
  }
 ],
 "metadata": {
  "kernelspec": {
   "display_name": "Python 3.9.12 ('datsci')",
   "language": "python",
   "name": "python3"
  },
  "language_info": {
   "codemirror_mode": {
    "name": "ipython",
    "version": 3
   },
   "file_extension": ".py",
   "mimetype": "text/x-python",
   "name": "python",
   "nbconvert_exporter": "python",
   "pygments_lexer": "ipython3",
   "version": "3.9.12"
  },
  "orig_nbformat": 4,
  "vscode": {
   "interpreter": {
    "hash": "ff6bbc059f09f5d67763002880d565854665e18376ee4b40865bcf6ed65b96b4"
   }
  }
 },
 "nbformat": 4,
 "nbformat_minor": 2
}
